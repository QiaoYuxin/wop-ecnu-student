{
 "cells": [
  {
   "cell_type": "code",
   "execution_count": 1,
   "metadata": {},
   "outputs": [],
   "source": [
    "#判断一个年份是不是闰年"
   ]
  },
  {
   "cell_type": "code",
   "execution_count": 2,
   "metadata": {},
   "outputs": [
    {
     "name": "stdin",
     "output_type": "stream",
     "text": [
      "请输入年份： 2020\n"
     ]
    },
    {
     "name": "stdout",
     "output_type": "stream",
     "text": [
      "2020 是闰年\n"
     ]
    }
   ],
   "source": [
    "def Year_0(x):\n",
    "    if (x%4==0 and x%100!=0) or x%400==0:\n",
    "        print(x,'是闰年')\n",
    "    else:\n",
    "        print(x,'不是闰年')\n",
    "        \n",
    "a=int(input('请输入年份：'))\n",
    "Year_0(a)"
   ]
  },
  {
   "cell_type": "code",
   "execution_count": 3,
   "metadata": {},
   "outputs": [],
   "source": [
    "#判断一个数是不是素数"
   ]
  },
  {
   "cell_type": "code",
   "execution_count": 4,
   "metadata": {},
   "outputs": [
    {
     "name": "stdin",
     "output_type": "stream",
     "text": [
      "请输入一个数 8\n"
     ]
    },
    {
     "name": "stdout",
     "output_type": "stream",
     "text": [
      "8 不是素数\n"
     ]
    }
   ],
   "source": [
    "def PrimeNumber(x):\n",
    "    i=2\n",
    "    s=0\n",
    "    while i<x:\n",
    "        if x%i!=0:\n",
    "            s+=1\n",
    "        else:\n",
    "            s+=0\n",
    "        i+=1\n",
    "    if s>0:\n",
    "        print(x,'不是素数')\n",
    "    else:\n",
    "        print(x,'是素数')\n",
    "            \n",
    "a=int(input('请输入一个数'))\n",
    "PrimeNumber(a)"
   ]
  },
  {
   "cell_type": "code",
   "execution_count": null,
   "metadata": {},
   "outputs": [],
   "source": []
  }
 ],
 "metadata": {
  "kernelspec": {
   "display_name": "Python 3",
   "language": "python",
   "name": "python3"
  },
  "language_info": {
   "codemirror_mode": {
    "name": "ipython",
    "version": 3
   },
   "file_extension": ".py",
   "mimetype": "text/x-python",
   "name": "python",
   "nbconvert_exporter": "python",
   "pygments_lexer": "ipython3",
   "version": "3.7.4"
  }
 },
 "nbformat": 4,
 "nbformat_minor": 4
}
